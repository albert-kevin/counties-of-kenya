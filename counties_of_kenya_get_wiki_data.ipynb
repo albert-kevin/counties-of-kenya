{
 "cells": [
  {
   "cell_type": "code",
   "execution_count": 1,
   "metadata": {},
   "outputs": [],
   "source": [
    "sites = ['Mombasa_county', 'Kwale', 'Kilifi', 'Tana_River_County',\n",
    "       'Lamu_County', 'Taita–Taveta_County', 'Garissa', 'Wajir', 'Mandera', 'Marsabit',\n",
    "       'Isiolo', 'Meru_County', 'Tharaka-Nithi', 'Embu_County', 'Kitui', 'Machakos',\n",
    "       'Makueni', 'Nyandarua', 'Nyeri', 'Kirinyaga_County', \"Muranga\", 'Kiambu',\n",
    "       'Turkana_County', 'West_Pokot', 'Samburu_County', 'Trans-Nzoia_County', 'Uasin_Gishu',\n",
    "       'Elgeyo-Marakwet_County', 'Nandi', 'Baringo_County', 'Laikipia', 'Nakuru',\n",
    "       'Narok', 'Kajiado', 'Kericho', 'Bomet', 'Kakamega', 'Vihiga',\n",
    "       'Bungoma', 'Busia_County', 'Siaya', 'Kisumu', 'Homa_Bay', 'Migori',\n",
    "       'Kisii_County', 'Nyamira', 'Nairobi_County']"
   ]
  },
  {
   "cell_type": "code",
   "execution_count": 2,
   "metadata": {},
   "outputs": [
    {
     "data": {
      "text/plain": [
       "['https://en.wikipedia.org/wiki/Mombasa_county',\n",
       " 'https://en.wikipedia.org/wiki/Kwale',\n",
       " 'https://en.wikipedia.org/wiki/Kilifi',\n",
       " 'https://en.wikipedia.org/wiki/Tana_River_County',\n",
       " 'https://en.wikipedia.org/wiki/Lamu_County',\n",
       " 'https://en.wikipedia.org/wiki/Taita–Taveta_County',\n",
       " 'https://en.wikipedia.org/wiki/Garissa',\n",
       " 'https://en.wikipedia.org/wiki/Wajir',\n",
       " 'https://en.wikipedia.org/wiki/Mandera',\n",
       " 'https://en.wikipedia.org/wiki/Marsabit',\n",
       " 'https://en.wikipedia.org/wiki/Isiolo',\n",
       " 'https://en.wikipedia.org/wiki/Meru_County',\n",
       " 'https://en.wikipedia.org/wiki/Tharaka-Nithi',\n",
       " 'https://en.wikipedia.org/wiki/Embu_County',\n",
       " 'https://en.wikipedia.org/wiki/Kitui',\n",
       " 'https://en.wikipedia.org/wiki/Machakos',\n",
       " 'https://en.wikipedia.org/wiki/Makueni',\n",
       " 'https://en.wikipedia.org/wiki/Nyandarua',\n",
       " 'https://en.wikipedia.org/wiki/Nyeri',\n",
       " 'https://en.wikipedia.org/wiki/Kirinyaga_County',\n",
       " 'https://en.wikipedia.org/wiki/Muranga',\n",
       " 'https://en.wikipedia.org/wiki/Kiambu',\n",
       " 'https://en.wikipedia.org/wiki/Turkana_County',\n",
       " 'https://en.wikipedia.org/wiki/West_Pokot',\n",
       " 'https://en.wikipedia.org/wiki/Samburu_County',\n",
       " 'https://en.wikipedia.org/wiki/Trans-Nzoia_County',\n",
       " 'https://en.wikipedia.org/wiki/Uasin_Gishu',\n",
       " 'https://en.wikipedia.org/wiki/Elgeyo-Marakwet_County',\n",
       " 'https://en.wikipedia.org/wiki/Nandi',\n",
       " 'https://en.wikipedia.org/wiki/Baringo_County',\n",
       " 'https://en.wikipedia.org/wiki/Laikipia',\n",
       " 'https://en.wikipedia.org/wiki/Nakuru',\n",
       " 'https://en.wikipedia.org/wiki/Narok',\n",
       " 'https://en.wikipedia.org/wiki/Kajiado',\n",
       " 'https://en.wikipedia.org/wiki/Kericho',\n",
       " 'https://en.wikipedia.org/wiki/Bomet',\n",
       " 'https://en.wikipedia.org/wiki/Kakamega',\n",
       " 'https://en.wikipedia.org/wiki/Vihiga',\n",
       " 'https://en.wikipedia.org/wiki/Bungoma',\n",
       " 'https://en.wikipedia.org/wiki/Busia_County',\n",
       " 'https://en.wikipedia.org/wiki/Siaya',\n",
       " 'https://en.wikipedia.org/wiki/Kisumu',\n",
       " 'https://en.wikipedia.org/wiki/Homa_Bay',\n",
       " 'https://en.wikipedia.org/wiki/Migori',\n",
       " 'https://en.wikipedia.org/wiki/Kisii_County',\n",
       " 'https://en.wikipedia.org/wiki/Nyamira',\n",
       " 'https://en.wikipedia.org/wiki/Nairobi_County']"
      ]
     },
     "execution_count": 2,
     "metadata": {},
     "output_type": "execute_result"
    }
   ],
   "source": [
    "wiki_county = []\n",
    "for site in sites:\n",
    "    wiki_county.append(\"https://en.wikipedia.org/wiki/\" + site)\n",
    "wiki_county"
   ]
  },
  {
   "cell_type": "code",
   "execution_count": 91,
   "metadata": {},
   "outputs": [],
   "source": [
    "import pandas as pd\n",
    "\n",
    "def collect_wiki_county_data(url):\n",
    "    try:\n",
    "        df = pd.read_html(url)\n",
    "        print(\"number of tables: {}\".format(len(df)))\n",
    "    except:\n",
    "        print(\"failed\")\n",
    "    #return 1"
   ]
  },
  {
   "cell_type": "code",
   "execution_count": 90,
   "metadata": {},
   "outputs": [
    {
     "name": "stdout",
     "output_type": "stream",
     "text": [
      "number of tables: 5\n"
     ]
    },
    {
     "ename": "AttributeError",
     "evalue": "'list' object has no attribute 'to_csv'",
     "output_type": "error",
     "traceback": [
      "\u001b[0;31m---------------------------------------------------------------------------\u001b[0m",
      "\u001b[0;31mAttributeError\u001b[0m                            Traceback (most recent call last)",
      "\u001b[0;32m<ipython-input-90-629281cac88b>\u001b[0m in \u001b[0;36m<module>\u001b[0;34m()\u001b[0m\n\u001b[1;32m      1\u001b[0m \u001b[0;32mfor\u001b[0m \u001b[0murl\u001b[0m \u001b[0;32min\u001b[0m \u001b[0mwiki_county\u001b[0m\u001b[0;34m:\u001b[0m\u001b[0;34m\u001b[0m\u001b[0m\n\u001b[1;32m      2\u001b[0m     \u001b[0mcollect_wiki_county_data\u001b[0m\u001b[0;34m(\u001b[0m\u001b[0murl\u001b[0m\u001b[0;34m)\u001b[0m\u001b[0;34m\u001b[0m\u001b[0m\n\u001b[0;32m----> 3\u001b[0;31m     \u001b[0mdf\u001b[0m\u001b[0;34m.\u001b[0m\u001b[0mto_csv\u001b[0m\u001b[0;34m(\u001b[0m\u001b[0mwiki_county\u001b[0m\u001b[0;34m[\u001b[0m\u001b[0;36m0\u001b[0m\u001b[0;34m]\u001b[0m\u001b[0;34m.\u001b[0m\u001b[0msplit\u001b[0m\u001b[0;34m(\u001b[0m\u001b[0;34m\"/\"\u001b[0m\u001b[0;34m)\u001b[0m\u001b[0;34m[\u001b[0m\u001b[0;34m-\u001b[0m\u001b[0;36m1\u001b[0m\u001b[0;34m]\u001b[0m \u001b[0;34m+\u001b[0m \u001b[0;34m\".csv\"\u001b[0m\u001b[0;34m,\u001b[0m \u001b[0mindex\u001b[0m\u001b[0;34m=\u001b[0m\u001b[0;32mFalse\u001b[0m\u001b[0;34m,\u001b[0m \u001b[0mencoding\u001b[0m\u001b[0;34m=\u001b[0m\u001b[0;34m\"utf-8\"\u001b[0m\u001b[0;34m)\u001b[0m\u001b[0;34m\u001b[0m\u001b[0m\n\u001b[0m",
      "\u001b[0;31mAttributeError\u001b[0m: 'list' object has no attribute 'to_csv'"
     ]
    }
   ],
   "source": [
    "for url in wiki_county:\n",
    "    collect_wiki_county_data(url)\n",
    "    df.to_csv(wiki_county[0].split(\"/\")[-1] + \".csv\", index=False, encoding=\"utf-8\")"
   ]
  },
  {
   "cell_type": "code",
   "execution_count": 92,
   "metadata": {},
   "outputs": [
    {
     "name": "stdout",
     "output_type": "stream",
     "text": [
      "number of tables: 5\n"
     ]
    }
   ],
   "source": [
    "collect_wiki_county_data('https://en.wikipedia.org/wiki/Mombasa_county')"
   ]
  },
  {
   "cell_type": "code",
   "execution_count": 94,
   "metadata": {},
   "outputs": [
    {
     "name": "stdout",
     "output_type": "stream",
     "text": [
      "total 48\r\n",
      "-rw-rw-r-- 1 beire beire  7281 Nov 19 19:24 counties_of_kenya_get_wiki_data.ipynb\r\n",
      "-rw-rw-r-- 1 beire beire  2092 Nov 14 20:03 oefening_Samir.csv\r\n",
      "-rw-rw-r-- 1 beire beire 35778 Nov 19 19:06 Untitled.ipynb\r\n"
     ]
    }
   ],
   "source": [
    "!ls -l"
   ]
  }
 ],
 "metadata": {
  "kernelspec": {
   "display_name": "Python (myenv3.6.5)",
   "language": "python",
   "name": "myenv3.6.5"
  },
  "language_info": {
   "codemirror_mode": {
    "name": "ipython",
    "version": 3
   },
   "file_extension": ".py",
   "mimetype": "text/x-python",
   "name": "python",
   "nbconvert_exporter": "python",
   "pygments_lexer": "ipython3",
   "version": "3.6.5"
  }
 },
 "nbformat": 4,
 "nbformat_minor": 2
}
