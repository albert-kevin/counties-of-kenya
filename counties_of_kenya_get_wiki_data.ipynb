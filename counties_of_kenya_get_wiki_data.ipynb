{
 "cells": [
  {
   "cell_type": "code",
   "execution_count": 12,
   "metadata": {},
   "outputs": [],
   "source": [
    "sites = ['Mombasa_county', 'Kwale', 'Kilifi', 'Tana_River_County',\n",
    "       'Lamu_County', 'Taita–Taveta_County', 'Garissa', 'Wajir', 'Mandera', 'Marsabit',\n",
    "       'Isiolo', 'Meru_County', 'Tharaka-Nithi', 'Embu_County', 'Kitui', 'Machakos',\n",
    "       'Makueni', 'Nyandarua', 'Nyeri', 'Kirinyaga_County', \"Muranga\", 'Kiambu',\n",
    "       'Turkana_County', 'West_Pokot', 'Samburu_County', 'Trans-Nzoia_County', 'Uasin_Gishu',\n",
    "       'Elgeyo-Marakwet_County', 'Nandi', 'Baringo_County', 'Laikipia', 'Nakuru',\n",
    "       'Narok', 'Kajiado', 'Kericho', 'Bomet', 'Kakamega', 'Vihiga',\n",
    "       'Bungoma', 'Busia_County', 'Siaya', 'Kisumu', 'Homa_Bay', 'Migori',\n",
    "       'Kisii_County', 'Nyamira', 'Nairobi_County']"
   ]
  },
  {
   "cell_type": "code",
   "execution_count": 24,
   "metadata": {},
   "outputs": [
    {
     "data": {
      "text/plain": [
       "['https://en.wikipedia.org/wiki/Mombasa_county',\n",
       " 'https://en.wikipedia.org/wiki/Kwale',\n",
       " 'https://en.wikipedia.org/wiki/Kilifi',\n",
       " 'https://en.wikipedia.org/wiki/Tana_River_County',\n",
       " 'https://en.wikipedia.org/wiki/Lamu_County',\n",
       " 'https://en.wikipedia.org/wiki/Taita–Taveta_County',\n",
       " 'https://en.wikipedia.org/wiki/Garissa',\n",
       " 'https://en.wikipedia.org/wiki/Wajir',\n",
       " 'https://en.wikipedia.org/wiki/Mandera',\n",
       " 'https://en.wikipedia.org/wiki/Marsabit',\n",
       " 'https://en.wikipedia.org/wiki/Isiolo',\n",
       " 'https://en.wikipedia.org/wiki/Meru_County',\n",
       " 'https://en.wikipedia.org/wiki/Tharaka-Nithi',\n",
       " 'https://en.wikipedia.org/wiki/Embu_County',\n",
       " 'https://en.wikipedia.org/wiki/Kitui',\n",
       " 'https://en.wikipedia.org/wiki/Machakos',\n",
       " 'https://en.wikipedia.org/wiki/Makueni',\n",
       " 'https://en.wikipedia.org/wiki/Nyandarua',\n",
       " 'https://en.wikipedia.org/wiki/Nyeri',\n",
       " 'https://en.wikipedia.org/wiki/Kirinyaga_County',\n",
       " 'https://en.wikipedia.org/wiki/Muranga',\n",
       " 'https://en.wikipedia.org/wiki/Kiambu',\n",
       " 'https://en.wikipedia.org/wiki/Turkana_County',\n",
       " 'https://en.wikipedia.org/wiki/West_Pokot',\n",
       " 'https://en.wikipedia.org/wiki/Samburu_County',\n",
       " 'https://en.wikipedia.org/wiki/Trans-Nzoia_County',\n",
       " 'https://en.wikipedia.org/wiki/Uasin_Gishu',\n",
       " 'https://en.wikipedia.org/wiki/Elgeyo-Marakwet_County',\n",
       " 'https://en.wikipedia.org/wiki/Nandi',\n",
       " 'https://en.wikipedia.org/wiki/Baringo_County',\n",
       " 'https://en.wikipedia.org/wiki/Laikipia',\n",
       " 'https://en.wikipedia.org/wiki/Nakuru',\n",
       " 'https://en.wikipedia.org/wiki/Narok',\n",
       " 'https://en.wikipedia.org/wiki/Kajiado',\n",
       " 'https://en.wikipedia.org/wiki/Kericho',\n",
       " 'https://en.wikipedia.org/wiki/Bomet',\n",
       " 'https://en.wikipedia.org/wiki/Kakamega',\n",
       " 'https://en.wikipedia.org/wiki/Vihiga',\n",
       " 'https://en.wikipedia.org/wiki/Bungoma',\n",
       " 'https://en.wikipedia.org/wiki/Busia_County',\n",
       " 'https://en.wikipedia.org/wiki/Siaya',\n",
       " 'https://en.wikipedia.org/wiki/Kisumu',\n",
       " 'https://en.wikipedia.org/wiki/Homa_Bay',\n",
       " 'https://en.wikipedia.org/wiki/Migori',\n",
       " 'https://en.wikipedia.org/wiki/Kisii_County',\n",
       " 'https://en.wikipedia.org/wiki/Nyamira',\n",
       " 'https://en.wikipedia.org/wiki/Nairobi_County']"
      ]
     },
     "execution_count": 24,
     "metadata": {},
     "output_type": "execute_result"
    }
   ],
   "source": [
    "wiki_county = []\n",
    "for site in sites:\n",
    "    wiki_county.append(\"https://en.wikipedia.org/wiki/\" + site)\n",
    "wiki_county"
   ]
  },
  {
   "cell_type": "code",
   "execution_count": 14,
   "metadata": {},
   "outputs": [],
   "source": [
    "import pandas as pd"
   ]
  },
  {
   "cell_type": "code",
   "execution_count": 16,
   "metadata": {},
   "outputs": [],
   "source": [
    "def collect_wiki_county_data(url):\n",
    "    try:\n",
    "        df = pd.read_html(url)\n",
    "        return df\n",
    "    except:\n",
    "        print(\"failed\")"
   ]
  },
  {
   "cell_type": "code",
   "execution_count": 18,
   "metadata": {},
   "outputs": [
    {
     "data": {
      "text/plain": [
       "'Mombasa_county.csv'"
      ]
     },
     "execution_count": 18,
     "metadata": {},
     "output_type": "execute_result"
    }
   ],
   "source": [
    "wiki_county[0].split(\"/\")[-1] + \".csv\""
   ]
  },
  {
   "cell_type": "code",
   "execution_count": 20,
   "metadata": {},
   "outputs": [],
   "source": [
    "wiki_county = ['https://en.wikipedia.org/wiki/Mombasa_county',\n",
    " 'https://en.wikipedia.org/wiki/Kwale',\n",
    " 'https://en.wikipedia.org/wiki/Kilifi']"
   ]
  },
  {
   "cell_type": "code",
   "execution_count": 25,
   "metadata": {},
   "outputs": [
    {
     "name": "stdout",
     "output_type": "stream",
     "text": [
      "Mombasa_county_0.csv\n",
      "Mombasa_county_1.csv\n",
      "Mombasa_county_2.csv\n",
      "Mombasa_county_3.csv\n",
      "Mombasa_county_4.csv\n",
      "Kwale_0.csv\n",
      "Kwale_1.csv\n",
      "Kilifi_0.csv\n",
      "Kilifi_1.csv\n",
      "Kilifi_2.csv\n",
      "Kilifi_3.csv\n",
      "Tana_River_County_0.csv\n",
      "Tana_River_County_1.csv\n",
      "Tana_River_County_2.csv\n",
      "Tana_River_County_3.csv\n",
      "Lamu_County_0.csv\n",
      "Lamu_County_1.csv\n",
      "Lamu_County_2.csv\n",
      "Lamu_County_3.csv\n",
      "Lamu_County_4.csv\n",
      "Lamu_County_5.csv\n",
      "failed\n",
      "Garissa_0.csv\n",
      "Garissa_1.csv\n",
      "Garissa_2.csv\n",
      "Wajir_0.csv\n",
      "Wajir_1.csv\n",
      "Wajir_2.csv\n",
      "Mandera_0.csv\n",
      "Mandera_1.csv\n",
      "Mandera_2.csv\n",
      "Mandera_3.csv\n",
      "Mandera_4.csv\n",
      "Marsabit_0.csv\n",
      "Marsabit_1.csv\n",
      "Marsabit_2.csv\n",
      "Isiolo_0.csv\n",
      "Isiolo_1.csv\n",
      "Isiolo_2.csv\n",
      "Meru_County_0.csv\n",
      "Meru_County_1.csv\n",
      "Meru_County_2.csv\n",
      "Tharaka-Nithi_0.csv\n",
      "Tharaka-Nithi_1.csv\n",
      "Tharaka-Nithi_2.csv\n",
      "Tharaka-Nithi_3.csv\n",
      "Embu_County_0.csv\n",
      "Embu_County_1.csv\n",
      "Embu_County_2.csv\n",
      "Embu_County_3.csv\n",
      "Embu_County_4.csv\n",
      "Embu_County_5.csv\n",
      "Embu_County_6.csv\n",
      "Embu_County_7.csv\n",
      "Kitui_0.csv\n",
      "Kitui_1.csv\n",
      "Machakos_0.csv\n",
      "Machakos_1.csv\n",
      "Machakos_2.csv\n",
      "Machakos_3.csv\n",
      "Machakos_4.csv\n",
      "Machakos_5.csv\n",
      "Machakos_6.csv\n",
      "Makueni_0.csv\n",
      "Makueni_1.csv\n",
      "Makueni_2.csv\n",
      "Makueni_3.csv\n",
      "Makueni_4.csv\n",
      "Makueni_5.csv\n",
      "Makueni_6.csv\n",
      "Nyandarua_0.csv\n",
      "Nyandarua_1.csv\n",
      "Nyandarua_2.csv\n",
      "Nyandarua_3.csv\n",
      "Nyandarua_4.csv\n",
      "Nyandarua_5.csv\n",
      "Nyandarua_6.csv\n",
      "Nyandarua_7.csv\n",
      "Nyandarua_8.csv\n",
      "Nyandarua_9.csv\n",
      "Nyandarua_10.csv\n",
      "Nyeri_0.csv\n",
      "Nyeri_1.csv\n",
      "Nyeri_2.csv\n",
      "Kirinyaga_County_0.csv\n",
      "Kirinyaga_County_1.csv\n",
      "Kirinyaga_County_2.csv\n",
      "Kirinyaga_County_3.csv\n",
      "Kirinyaga_County_4.csv\n",
      "Kirinyaga_County_5.csv\n",
      "Kirinyaga_County_6.csv\n",
      "Kirinyaga_County_7.csv\n",
      "Muranga_0.csv\n",
      "Muranga_1.csv\n",
      "Muranga_2.csv\n",
      "Kiambu_0.csv\n",
      "Kiambu_1.csv\n",
      "Kiambu_2.csv\n",
      "Kiambu_3.csv\n",
      "Turkana_County_0.csv\n",
      "Turkana_County_1.csv\n",
      "Turkana_County_2.csv\n",
      "Turkana_County_3.csv\n",
      "Turkana_County_4.csv\n",
      "Turkana_County_5.csv\n",
      "Turkana_County_6.csv\n",
      "West_Pokot_0.csv\n",
      "West_Pokot_1.csv\n",
      "West_Pokot_2.csv\n",
      "West_Pokot_3.csv\n",
      "West_Pokot_4.csv\n",
      "Samburu_County_0.csv\n",
      "Samburu_County_1.csv\n",
      "Samburu_County_2.csv\n",
      "Samburu_County_3.csv\n",
      "Samburu_County_4.csv\n",
      "Samburu_County_5.csv\n",
      "Trans-Nzoia_County_0.csv\n",
      "Trans-Nzoia_County_1.csv\n",
      "Trans-Nzoia_County_2.csv\n",
      "Trans-Nzoia_County_3.csv\n",
      "Trans-Nzoia_County_4.csv\n",
      "Uasin_Gishu_0.csv\n",
      "Uasin_Gishu_1.csv\n",
      "Uasin_Gishu_2.csv\n",
      "Uasin_Gishu_3.csv\n",
      "Uasin_Gishu_4.csv\n",
      "Elgeyo-Marakwet_County_0.csv\n",
      "Elgeyo-Marakwet_County_1.csv\n",
      "Elgeyo-Marakwet_County_2.csv\n",
      "Elgeyo-Marakwet_County_3.csv\n",
      "Elgeyo-Marakwet_County_4.csv\n",
      "Elgeyo-Marakwet_County_5.csv\n",
      "Elgeyo-Marakwet_County_6.csv\n",
      "Elgeyo-Marakwet_County_7.csv\n",
      "Elgeyo-Marakwet_County_8.csv\n",
      "Elgeyo-Marakwet_County_9.csv\n",
      "Elgeyo-Marakwet_County_10.csv\n",
      "Elgeyo-Marakwet_County_11.csv\n",
      "Nandi_0.csv\n",
      "Nandi_1.csv\n",
      "Baringo_County_0.csv\n",
      "Baringo_County_1.csv\n",
      "Baringo_County_2.csv\n",
      "Baringo_County_3.csv\n",
      "Laikipia_0.csv\n",
      "Laikipia_1.csv\n",
      "Laikipia_2.csv\n",
      "Laikipia_3.csv\n",
      "Laikipia_4.csv\n",
      "Laikipia_5.csv\n",
      "Nakuru_0.csv\n",
      "Nakuru_1.csv\n",
      "Nakuru_2.csv\n",
      "Nakuru_3.csv\n",
      "Nakuru_4.csv\n",
      "Nakuru_5.csv\n",
      "Nakuru_6.csv\n",
      "Nakuru_7.csv\n",
      "Nakuru_8.csv\n",
      "Narok_0.csv\n",
      "Narok_1.csv\n",
      "Narok_2.csv\n",
      "Narok_3.csv\n",
      "Kajiado_0.csv\n",
      "Kajiado_1.csv\n",
      "Kericho_0.csv\n",
      "Kericho_1.csv\n",
      "Bomet_0.csv\n",
      "Bomet_1.csv\n",
      "Bomet_2.csv\n",
      "Kakamega_0.csv\n",
      "Kakamega_1.csv\n",
      "Vihiga_0.csv\n",
      "Vihiga_1.csv\n",
      "Vihiga_2.csv\n",
      "Bungoma_0.csv\n",
      "Bungoma_1.csv\n",
      "Bungoma_2.csv\n",
      "Busia_County_0.csv\n",
      "Busia_County_1.csv\n",
      "Busia_County_2.csv\n",
      "Busia_County_3.csv\n",
      "Busia_County_4.csv\n",
      "Siaya_0.csv\n",
      "Kisumu_0.csv\n",
      "Kisumu_1.csv\n",
      "Kisumu_2.csv\n",
      "Kisumu_3.csv\n",
      "Kisumu_4.csv\n",
      "Kisumu_5.csv\n",
      "Kisumu_6.csv\n",
      "Homa_Bay_0.csv\n",
      "Homa_Bay_1.csv\n",
      "Homa_Bay_2.csv\n",
      "Homa_Bay_3.csv\n",
      "Migori_0.csv\n",
      "Kisii_County_0.csv\n",
      "Kisii_County_1.csv\n",
      "Kisii_County_2.csv\n",
      "Kisii_County_3.csv\n",
      "Kisii_County_4.csv\n",
      "Nyamira_0.csv\n",
      "Nyamira_1.csv\n",
      "Nairobi_County_0.csv\n",
      "Nairobi_County_1.csv\n",
      "Nairobi_County_2.csv\n",
      "Nairobi_County_3.csv\n",
      "Nairobi_County_4.csv\n",
      "Nairobi_County_5.csv\n",
      "Nairobi_County_6.csv\n",
      "Nairobi_County_7.csv\n",
      "Nairobi_County_8.csv\n"
     ]
    }
   ],
   "source": [
    "for url in wiki_county:\n",
    "    dfs = collect_wiki_county_data(url)\n",
    "    if dfs:\n",
    "        for j in range(len(dfs)):\n",
    "            dfs[j].to_csv(url.split(\"/\")[-1] + \"_\" + str(j) + \".csv\")\n",
    "            print (url.split(\"/\")[-1] + \"_\" + str(j) + \".csv\")"
   ]
  },
  {
   "cell_type": "code",
   "execution_count": 29,
   "metadata": {},
   "outputs": [
    {
     "name": "stdout",
     "output_type": "stream",
     "text": [
      "213\r\n"
     ]
    }
   ],
   "source": [
    "! ls | wc -l"
   ]
  },
  {
   "cell_type": "code",
   "execution_count": 92,
   "metadata": {},
   "outputs": [
    {
     "name": "stdout",
     "output_type": "stream",
     "text": [
      "number of tables: 5\n"
     ]
    }
   ],
   "source": [
    "collect_wiki_county_data('https://en.wikipedia.org/wiki/Mombasa_county')"
   ]
  },
  {
   "cell_type": "code",
   "execution_count": 94,
   "metadata": {},
   "outputs": [
    {
     "name": "stdout",
     "output_type": "stream",
     "text": [
      "total 48\r\n",
      "-rw-rw-r-- 1 beire beire  7281 Nov 19 19:24 counties_of_kenya_get_wiki_data.ipynb\r\n",
      "-rw-rw-r-- 1 beire beire  2092 Nov 14 20:03 oefening_Samir.csv\r\n",
      "-rw-rw-r-- 1 beire beire 35778 Nov 19 19:06 Untitled.ipynb\r\n"
     ]
    }
   ],
   "source": [
    "!ls -l"
   ]
  }
 ],
 "metadata": {
  "kernelspec": {
   "display_name": "Python (myenv3.6.5)",
   "language": "python",
   "name": "myenv3.6.5"
  },
  "language_info": {
   "codemirror_mode": {
    "name": "ipython",
    "version": 3
   },
   "file_extension": ".py",
   "mimetype": "text/x-python",
   "name": "python",
   "nbconvert_exporter": "python",
   "pygments_lexer": "ipython3",
   "version": "3.6.5"
  }
 },
 "nbformat": 4,
 "nbformat_minor": 2
}
